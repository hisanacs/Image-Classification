{
  "cells": [
    {
      "cell_type": "markdown",
      "metadata": {
        "id": "view-in-github",
        "colab_type": "text"
      },
      "source": [
        "<a href=\"https://colab.research.google.com/github/hisanacs/Image-Classification/blob/main/cat_and_dog_image_viewing.ipynb\" target=\"_parent\"><img src=\"https://colab.research.google.com/assets/colab-badge.svg\" alt=\"Open In Colab\"/></a>"
      ]
    },
    {
      "cell_type": "code",
      "execution_count": 1,
      "metadata": {
        "id": "pXaWlqiU8cPS"
      },
      "outputs": [],
      "source": [
        "import os"
      ]
    },
    {
      "cell_type": "code",
      "execution_count": 2,
      "metadata": {
        "colab": {
          "base_uri": "https://localhost:8080/"
        },
        "id": "eNrubJT79M6s",
        "outputId": "acda482c-d02c-4f8c-add4-dba64f873ea6"
      },
      "outputs": [
        {
          "output_type": "execute_result",
          "data": {
            "text/plain": [
              "['Cat', 'Dog']"
            ]
          },
          "metadata": {},
          "execution_count": 2
        }
      ],
      "source": [
        "os.listdir('/content/drive/MyDrive/data')"
      ]
    },
    {
      "cell_type": "code",
      "execution_count": 3,
      "metadata": {
        "colab": {
          "base_uri": "https://localhost:8080/"
        },
        "id": "zqoPPktZ9hXW",
        "outputId": "0863371c-7a3b-4182-dfd0-fef32d174c1c"
      },
      "outputs": [
        {
          "output_type": "execute_result",
          "data": {
            "text/plain": [
              "['dog.12.jpg',\n",
              " 'dog.14.jpg',\n",
              " 'dog.15.jpg',\n",
              " 'dog.13.jpg',\n",
              " 'dog.16.jpg',\n",
              " 'dog.22.jpg',\n",
              " 'dog.24.jpg',\n",
              " 'dog.21.jpg',\n",
              " 'dog.19.jpg',\n",
              " 'dog.17.jpg',\n",
              " 'dog.18.jpg',\n",
              " 'dog.23.jpg',\n",
              " 'dog.20.jpg',\n",
              " 'dog.31.jpg',\n",
              " 'dog.32.jpg',\n",
              " 'dog.30.jpg',\n",
              " 'dog.28.jpg',\n",
              " 'dog.33.jpg',\n",
              " 'dog.25.jpg',\n",
              " 'dog.27.jpg',\n",
              " 'dog.26.jpg',\n",
              " 'dog.36.jpg',\n",
              " 'dog.47.jpg',\n",
              " 'dog.45.jpg',\n",
              " 'dog.34.jpg',\n",
              " 'dog.40.jpg',\n",
              " 'dog.46.jpg',\n",
              " 'dog.58.jpg',\n",
              " 'dog.44.jpg',\n",
              " 'dog.35.jpg',\n",
              " 'dog.39.jpg',\n",
              " 'dog.57.jpg',\n",
              " 'dog.42.jpg',\n",
              " 'dog.60.jpg',\n",
              " 'dog.55.jpg',\n",
              " 'dog.51.jpg',\n",
              " 'dog.48.jpg',\n",
              " 'dog.56.jpg',\n",
              " 'dog.38.jpg',\n",
              " 'dog.71.jpg',\n",
              " 'dog.80.jpg',\n",
              " 'dog.69.jpg',\n",
              " 'dog.82.jpg',\n",
              " 'dog.79.jpg',\n",
              " 'dog.63.jpg',\n",
              " 'dog.66.jpg',\n",
              " 'dog.64.jpg',\n",
              " 'dog.67.jpg',\n",
              " 'dog.61.jpg',\n",
              " 'dog.81.jpg',\n",
              " 'dog.68.jpg',\n",
              " 'dog.65.jpg',\n",
              " 'dog.78.jpg',\n",
              " 'dog.77.jpg',\n",
              " 'dog.76.jpg',\n",
              " 'dog.70.jpg',\n",
              " 'download1.jpeg',\n",
              " 'download2.jpeg',\n",
              " 'download3.jpeg',\n",
              " 'download4.jpeg',\n",
              " 'download5.jpeg',\n",
              " 'download6.jpeg',\n",
              " 'images.jpeg',\n",
              " 'images1.jpeg',\n",
              " 'download7.jpeg',\n",
              " 'download8.jpeg']"
            ]
          },
          "metadata": {},
          "execution_count": 3
        }
      ],
      "source": [
        "os.listdir('/content/drive/MyDrive/data/Dog')"
      ]
    },
    {
      "cell_type": "code",
      "execution_count": 4,
      "metadata": {
        "colab": {
          "base_uri": "https://localhost:8080/"
        },
        "id": "zS7biY_I9vWJ",
        "outputId": "006d791e-9362-45ed-8c93-c4055ddcb456"
      },
      "outputs": [
        {
          "output_type": "execute_result",
          "data": {
            "text/plain": [
              "66"
            ]
          },
          "metadata": {},
          "execution_count": 4
        }
      ],
      "source": [
        "len(os.listdir('/content/drive/MyDrive/data/Dog'))"
      ]
    },
    {
      "cell_type": "code",
      "execution_count": 5,
      "metadata": {
        "colab": {
          "base_uri": "https://localhost:8080/"
        },
        "id": "vy4Ry92q9vQi",
        "outputId": "dc9fbf3a-7fca-430a-f0fd-5bac3acdbc99"
      },
      "outputs": [
        {
          "output_type": "execute_result",
          "data": {
            "text/plain": [
              "['cat.1 - Copy.jpg',\n",
              " 'cat.10.jpg',\n",
              " 'cat.11.jpg',\n",
              " 'cat.17.jpg',\n",
              " 'cat.20.jpg',\n",
              " 'cat.16.jpg',\n",
              " 'cat.21.jpg',\n",
              " 'cat.15.jpg',\n",
              " 'cat.2 - Copy.jpg',\n",
              " 'cat.12.jpg',\n",
              " 'cat.13.jpg',\n",
              " 'cat.18.jpg',\n",
              " 'cat.14.jpg',\n",
              " 'cat.28.jpg',\n",
              " 'cat.3 - Copy.jpg',\n",
              " 'cat.30.jpg',\n",
              " 'cat.27.jpg',\n",
              " 'cat.24.jpg',\n",
              " 'cat.31.jpg',\n",
              " 'cat.29.jpg',\n",
              " 'cat.34.jpg',\n",
              " 'cat.53.jpg',\n",
              " 'cat.33.jpg',\n",
              " 'cat.52.jpg',\n",
              " 'cat.43.jpg',\n",
              " 'cat.32.jpg',\n",
              " 'cat.48.jpg',\n",
              " 'cat.51.jpg',\n",
              " 'cat.5.jpg',\n",
              " 'cat.54.jpg',\n",
              " 'cat.44.jpg',\n",
              " 'cat.38.jpg',\n",
              " 'cat.39.jpg',\n",
              " 'cat.36.jpg',\n",
              " 'cat.50.jpg',\n",
              " 'cat.5 - Copy.jpg',\n",
              " 'cat.42.jpg',\n",
              " 'cat.37.jpg',\n",
              " 'cat.35.jpg',\n",
              " 'cat.40.jpg',\n",
              " 'cat.49.jpg',\n",
              " 'cat.46.jpg',\n",
              " 'cat.47.jpg',\n",
              " 'cat.41.jpg',\n",
              " 'cat.4 - Copy.jpg',\n",
              " 'cat.7.jpg',\n",
              " 'cat.8.jpg',\n",
              " 'cat.9.jpg',\n",
              " 'download.jpeg',\n",
              " 'download1.jpeg',\n",
              " 'download2.jpeg',\n",
              " 'download3.jpeg',\n",
              " 'download4.jpeg',\n",
              " 'download5.jpeg',\n",
              " 'download6.jpeg',\n",
              " 'download7.jpeg',\n",
              " 'download8.jpeg',\n",
              " 'images9.jpeg',\n",
              " 'images.jpeg',\n",
              " 'downloadcat.jpeg']"
            ]
          },
          "metadata": {},
          "execution_count": 5
        }
      ],
      "source": [
        "os.listdir('/content/drive/MyDrive/data/Cat')"
      ]
    },
    {
      "cell_type": "code",
      "execution_count": 6,
      "metadata": {
        "colab": {
          "base_uri": "https://localhost:8080/"
        },
        "id": "w7cH6i5b9n6c",
        "outputId": "020323e0-9ab0-4411-c6e4-f3b35dfcb2b5"
      },
      "outputs": [
        {
          "output_type": "execute_result",
          "data": {
            "text/plain": [
              "60"
            ]
          },
          "metadata": {},
          "execution_count": 6
        }
      ],
      "source": [
        "len(os.listdir('/content/drive/MyDrive/data/Cat'))"
      ]
    },
    {
      "cell_type": "code",
      "execution_count": 7,
      "metadata": {
        "colab": {
          "base_uri": "https://localhost:8080/",
          "height": 35
        },
        "id": "bU9sVbW--iw7",
        "outputId": "0e06138d-cff4-49ba-cb22-8fd5f458be21"
      },
      "outputs": [
        {
          "output_type": "execute_result",
          "data": {
            "text/plain": [
              "'/content/drive/MyDrive/data/Dog'"
            ],
            "application/vnd.google.colaboratory.intrinsic+json": {
              "type": "string"
            }
          },
          "metadata": {},
          "execution_count": 7
        }
      ],
      "source": [
        "datadir='/content/drive/MyDrive/data'\n",
        "dogpath=os.path.join(datadir,'Dog')\n",
        "dogpath"
      ]
    },
    {
      "cell_type": "code",
      "execution_count": 8,
      "metadata": {
        "colab": {
          "base_uri": "https://localhost:8080/"
        },
        "id": "BIcG_Dxx_jkR",
        "outputId": "6e908a99-e5f0-461a-bcd3-1b691393423a"
      },
      "outputs": [
        {
          "output_type": "execute_result",
          "data": {
            "text/plain": [
              "['dog.12.jpg',\n",
              " 'dog.14.jpg',\n",
              " 'dog.15.jpg',\n",
              " 'dog.13.jpg',\n",
              " 'dog.16.jpg',\n",
              " 'dog.22.jpg',\n",
              " 'dog.24.jpg',\n",
              " 'dog.21.jpg',\n",
              " 'dog.19.jpg',\n",
              " 'dog.17.jpg',\n",
              " 'dog.18.jpg',\n",
              " 'dog.23.jpg',\n",
              " 'dog.20.jpg',\n",
              " 'dog.31.jpg',\n",
              " 'dog.32.jpg',\n",
              " 'dog.30.jpg',\n",
              " 'dog.28.jpg',\n",
              " 'dog.33.jpg',\n",
              " 'dog.25.jpg',\n",
              " 'dog.27.jpg',\n",
              " 'dog.26.jpg',\n",
              " 'dog.36.jpg',\n",
              " 'dog.47.jpg',\n",
              " 'dog.45.jpg',\n",
              " 'dog.34.jpg',\n",
              " 'dog.40.jpg',\n",
              " 'dog.46.jpg',\n",
              " 'dog.58.jpg',\n",
              " 'dog.44.jpg',\n",
              " 'dog.35.jpg',\n",
              " 'dog.39.jpg',\n",
              " 'dog.57.jpg',\n",
              " 'dog.42.jpg',\n",
              " 'dog.60.jpg',\n",
              " 'dog.55.jpg',\n",
              " 'dog.51.jpg',\n",
              " 'dog.48.jpg',\n",
              " 'dog.56.jpg',\n",
              " 'dog.38.jpg',\n",
              " 'dog.71.jpg',\n",
              " 'dog.80.jpg',\n",
              " 'dog.69.jpg',\n",
              " 'dog.82.jpg',\n",
              " 'dog.79.jpg',\n",
              " 'dog.63.jpg',\n",
              " 'dog.66.jpg',\n",
              " 'dog.64.jpg',\n",
              " 'dog.67.jpg',\n",
              " 'dog.61.jpg',\n",
              " 'dog.81.jpg',\n",
              " 'dog.68.jpg',\n",
              " 'dog.65.jpg',\n",
              " 'dog.78.jpg',\n",
              " 'dog.77.jpg',\n",
              " 'dog.76.jpg',\n",
              " 'dog.70.jpg',\n",
              " 'download1.jpeg',\n",
              " 'download2.jpeg',\n",
              " 'download3.jpeg',\n",
              " 'download4.jpeg',\n",
              " 'download5.jpeg',\n",
              " 'download6.jpeg',\n",
              " 'images.jpeg',\n",
              " 'images1.jpeg',\n",
              " 'download7.jpeg',\n",
              " 'download8.jpeg']"
            ]
          },
          "metadata": {},
          "execution_count": 8
        }
      ],
      "source": [
        "os.listdir(dogpath)"
      ]
    },
    {
      "cell_type": "code",
      "execution_count": 9,
      "metadata": {
        "colab": {
          "base_uri": "https://localhost:8080/",
          "height": 35
        },
        "id": "tzYW5fHm_pXv",
        "outputId": "d0cd9865-100e-4321-9916-c2aca01253c6"
      },
      "outputs": [
        {
          "output_type": "execute_result",
          "data": {
            "text/plain": [
              "'/content/drive/MyDrive/data/Cat'"
            ],
            "application/vnd.google.colaboratory.intrinsic+json": {
              "type": "string"
            }
          },
          "metadata": {},
          "execution_count": 9
        }
      ],
      "source": [
        "catpath=os.path.join(datadir,'Cat')\n",
        "catpath"
      ]
    },
    {
      "cell_type": "code",
      "execution_count": 10,
      "metadata": {
        "colab": {
          "base_uri": "https://localhost:8080/"
        },
        "id": "dBmEqi8P_7nY",
        "outputId": "f906a219-c3c1-430a-8ba0-953a515ef4b8"
      },
      "outputs": [
        {
          "output_type": "execute_result",
          "data": {
            "text/plain": [
              "['cat.1 - Copy.jpg',\n",
              " 'cat.10.jpg',\n",
              " 'cat.11.jpg',\n",
              " 'cat.17.jpg',\n",
              " 'cat.20.jpg',\n",
              " 'cat.16.jpg',\n",
              " 'cat.21.jpg',\n",
              " 'cat.15.jpg',\n",
              " 'cat.2 - Copy.jpg',\n",
              " 'cat.12.jpg',\n",
              " 'cat.13.jpg',\n",
              " 'cat.18.jpg',\n",
              " 'cat.14.jpg',\n",
              " 'cat.28.jpg',\n",
              " 'cat.3 - Copy.jpg',\n",
              " 'cat.30.jpg',\n",
              " 'cat.27.jpg',\n",
              " 'cat.24.jpg',\n",
              " 'cat.31.jpg',\n",
              " 'cat.29.jpg',\n",
              " 'cat.34.jpg',\n",
              " 'cat.53.jpg',\n",
              " 'cat.33.jpg',\n",
              " 'cat.52.jpg',\n",
              " 'cat.43.jpg',\n",
              " 'cat.32.jpg',\n",
              " 'cat.48.jpg',\n",
              " 'cat.51.jpg',\n",
              " 'cat.5.jpg',\n",
              " 'cat.54.jpg',\n",
              " 'cat.44.jpg',\n",
              " 'cat.38.jpg',\n",
              " 'cat.39.jpg',\n",
              " 'cat.36.jpg',\n",
              " 'cat.50.jpg',\n",
              " 'cat.5 - Copy.jpg',\n",
              " 'cat.42.jpg',\n",
              " 'cat.37.jpg',\n",
              " 'cat.35.jpg',\n",
              " 'cat.40.jpg',\n",
              " 'cat.49.jpg',\n",
              " 'cat.46.jpg',\n",
              " 'cat.47.jpg',\n",
              " 'cat.41.jpg',\n",
              " 'cat.4 - Copy.jpg',\n",
              " 'cat.7.jpg',\n",
              " 'cat.8.jpg',\n",
              " 'cat.9.jpg',\n",
              " 'download.jpeg',\n",
              " 'download1.jpeg',\n",
              " 'download2.jpeg',\n",
              " 'download3.jpeg',\n",
              " 'download4.jpeg',\n",
              " 'download5.jpeg',\n",
              " 'download6.jpeg',\n",
              " 'download7.jpeg',\n",
              " 'download8.jpeg',\n",
              " 'images9.jpeg',\n",
              " 'images.jpeg',\n",
              " 'downloadcat.jpeg']"
            ]
          },
          "metadata": {},
          "execution_count": 10
        }
      ],
      "source": [
        "os.listdir(catpath)"
      ]
    },
    {
      "cell_type": "code",
      "execution_count": 11,
      "metadata": {
        "colab": {
          "base_uri": "https://localhost:8080/"
        },
        "id": "SiGnEvXPAKUj",
        "outputId": "440df651-0ccc-42bb-c614-33731eb9ded7"
      },
      "outputs": [
        {
          "output_type": "stream",
          "name": "stdout",
          "text": [
            "['Cat', 'Dog']\n",
            "/content/drive/MyDrive/data/Cat\n",
            "['cat.1 - Copy.jpg', 'cat.10.jpg', 'cat.11.jpg', 'cat.17.jpg', 'cat.20.jpg', 'cat.16.jpg', 'cat.21.jpg', 'cat.15.jpg', 'cat.2 - Copy.jpg', 'cat.12.jpg', 'cat.13.jpg', 'cat.18.jpg', 'cat.14.jpg', 'cat.28.jpg', 'cat.3 - Copy.jpg', 'cat.30.jpg', 'cat.27.jpg', 'cat.24.jpg', 'cat.31.jpg', 'cat.29.jpg', 'cat.34.jpg', 'cat.53.jpg', 'cat.33.jpg', 'cat.52.jpg', 'cat.43.jpg', 'cat.32.jpg', 'cat.48.jpg', 'cat.51.jpg', 'cat.5.jpg', 'cat.54.jpg', 'cat.44.jpg', 'cat.38.jpg', 'cat.39.jpg', 'cat.36.jpg', 'cat.50.jpg', 'cat.5 - Copy.jpg', 'cat.42.jpg', 'cat.37.jpg', 'cat.35.jpg', 'cat.40.jpg', 'cat.49.jpg', 'cat.46.jpg', 'cat.47.jpg', 'cat.41.jpg', 'cat.4 - Copy.jpg', 'cat.7.jpg', 'cat.8.jpg', 'cat.9.jpg', 'download.jpeg', 'download1.jpeg', 'download2.jpeg', 'download3.jpeg', 'download4.jpeg', 'download5.jpeg', 'download6.jpeg', 'download7.jpeg', 'download8.jpeg', 'images9.jpeg', 'images.jpeg', 'downloadcat.jpeg']\n",
            "/content/drive/MyDrive/data/Cat/Cat\n",
            "/content/drive/MyDrive/data/Dog\n",
            "['dog.12.jpg', 'dog.14.jpg', 'dog.15.jpg', 'dog.13.jpg', 'dog.16.jpg', 'dog.22.jpg', 'dog.24.jpg', 'dog.21.jpg', 'dog.19.jpg', 'dog.17.jpg', 'dog.18.jpg', 'dog.23.jpg', 'dog.20.jpg', 'dog.31.jpg', 'dog.32.jpg', 'dog.30.jpg', 'dog.28.jpg', 'dog.33.jpg', 'dog.25.jpg', 'dog.27.jpg', 'dog.26.jpg', 'dog.36.jpg', 'dog.47.jpg', 'dog.45.jpg', 'dog.34.jpg', 'dog.40.jpg', 'dog.46.jpg', 'dog.58.jpg', 'dog.44.jpg', 'dog.35.jpg', 'dog.39.jpg', 'dog.57.jpg', 'dog.42.jpg', 'dog.60.jpg', 'dog.55.jpg', 'dog.51.jpg', 'dog.48.jpg', 'dog.56.jpg', 'dog.38.jpg', 'dog.71.jpg', 'dog.80.jpg', 'dog.69.jpg', 'dog.82.jpg', 'dog.79.jpg', 'dog.63.jpg', 'dog.66.jpg', 'dog.64.jpg', 'dog.67.jpg', 'dog.61.jpg', 'dog.81.jpg', 'dog.68.jpg', 'dog.65.jpg', 'dog.78.jpg', 'dog.77.jpg', 'dog.76.jpg', 'dog.70.jpg', 'download1.jpeg', 'download2.jpeg', 'download3.jpeg', 'download4.jpeg', 'download5.jpeg', 'download6.jpeg', 'images.jpeg', 'images1.jpeg', 'download7.jpeg', 'download8.jpeg']\n",
            "/content/drive/MyDrive/data/Dog/Dog\n"
          ]
        }
      ],
      "source": [
        "datadir='/content/drive/MyDrive/data'\n",
        "subfolder=os.listdir(datadir)\n",
        "print(subfolder)\n",
        "for i in subfolder:\n",
        "  sub_path=os.path.join(datadir,i)\n",
        "  print(sub_path)\n",
        "  print(os.listdir(sub_path))\n",
        "  sub_path1=os.path.join(sub_path,i)\n",
        "  print(sub_path1)\n",
        "\n",
        "\n"
      ]
    },
    {
      "cell_type": "code",
      "execution_count": 12,
      "metadata": {
        "id": "qW9LVFic8DSL"
      },
      "outputs": [],
      "source": [
        "import pandas as pd\n",
        "import matplotlib.pyplot as plt\n",
        "from skimage.transform import resize\n",
        "from skimage.io import imread\n",
        "from sklearn.svm import SVC\n",
        "from sklearn.model_selection import train_test_split\n",
        "from sklearn.metrics import classification_report,ConfusionMatrixDisplay\n",
        "import numpy as np"
      ]
    },
    {
      "cell_type": "code",
      "execution_count": 13,
      "metadata": {
        "id": "IKqXcKEG82Sj"
      },
      "outputs": [],
      "source": [
        "# to change the shape-resize(during resize scaling is also done thats why the pixel value lies between 0 and1)-=\n",
        "# imread-to read images"
      ]
    },
    {
      "cell_type": "code",
      "execution_count": 14,
      "metadata": {
        "id": "Tt6jL0JsCiBG"
      },
      "outputs": [],
      "source": [
        "data_array=[]\n",
        "target_array=[]\n",
        "categories=['Cat','Dog']\n",
        "datadir='/content/drive/MyDrive/data'"
      ]
    },
    {
      "cell_type": "code",
      "execution_count": 15,
      "metadata": {
        "colab": {
          "base_uri": "https://localhost:8080/"
        },
        "id": "k5y-YE-g-LjU",
        "outputId": "cc0e3b85-e55b-418d-bc8f-a7c5841a4e03"
      },
      "outputs": [
        {
          "output_type": "stream",
          "name": "stdout",
          "text": [
            "Loaded Category: Cat\n",
            "Loaded Category: Dog\n"
          ]
        }
      ],
      "source": [
        "for i in categories:\n",
        "  subfolder_path=os.path.join(datadir,i)\n",
        "  # print(subfolder_path)\n",
        "  images=os.listdir(subfolder_path)\n",
        "  # print(images)\n",
        "  for img in images:\n",
        "    img_path=os.path.join(subfolder_path,img)\n",
        "    # print(img_path)\n",
        "    img_array=imread(img_path)\n",
        "    img_resized=resize(img_array,(150,150,3))\n",
        "    data_array.append(img_resized.flatten())\n",
        "    target_array.append(categories.index(i))\n",
        "  print('Loaded Category:',i)"
      ]
    },
    {
      "cell_type": "code",
      "execution_count": 16,
      "metadata": {
        "colab": {
          "base_uri": "https://localhost:8080/"
        },
        "id": "hLnperLK-Lgj",
        "outputId": "7889349c-7642-4c5e-f7c7-ee35841906c7"
      },
      "outputs": [
        {
          "output_type": "execute_result",
          "data": {
            "text/plain": [
              "(126, 67500)"
            ]
          },
          "metadata": {},
          "execution_count": 16
        }
      ],
      "source": [
        "data=np.array(data_array)\n",
        "data.shape"
      ]
    },
    {
      "cell_type": "code",
      "execution_count": 17,
      "metadata": {
        "colab": {
          "base_uri": "https://localhost:8080/"
        },
        "id": "do4mgQJDGk2r",
        "outputId": "0359c875-299b-4bcd-8ae4-e263185d4509"
      },
      "outputs": [
        {
          "output_type": "execute_result",
          "data": {
            "text/plain": [
              "(126,)"
            ]
          },
          "metadata": {},
          "execution_count": 17
        }
      ],
      "source": [
        "target=np.array(target_array)\n",
        "target.shape"
      ]
    },
    {
      "cell_type": "code",
      "execution_count": 18,
      "metadata": {
        "colab": {
          "base_uri": "https://localhost:8080/",
          "height": 488
        },
        "id": "JBPEXRZuFNlb",
        "outputId": "87b63734-6307-4324-87db-c7c28462b11c"
      },
      "outputs": [
        {
          "output_type": "execute_result",
          "data": {
            "text/plain": [
              "        0         1         2         3         4         5         6      \\\n",
              "0    0.154919  0.174317  0.159262  0.158661  0.174557  0.174348  0.160470   \n",
              "1    0.112229  0.128222  0.163382  0.068747  0.084740  0.125080  0.088116   \n",
              "2    0.890555  0.917245  0.909245  0.909860  0.948941  0.944676  0.925683   \n",
              "3    0.102460  0.102460  0.102460  0.109354  0.109354  0.109354  0.106019   \n",
              "4    0.351719  0.356456  0.346214  0.304857  0.305219  0.292262  0.252144   \n",
              "..        ...       ...       ...       ...       ...       ...       ...   \n",
              "121  0.540430  0.592002  0.587192  0.536907  0.582837  0.564881  0.473051   \n",
              "122  0.525404  0.515404  0.385404  0.541982  0.531982  0.401980  0.549706   \n",
              "123  0.180388  0.305878  0.211760  0.179468  0.304958  0.210840  0.176474   \n",
              "124  0.265494  0.194915  0.165522  0.289091  0.236930  0.201553  0.297122   \n",
              "125  1.000000  1.000000  1.000000  1.000000  1.000000  1.000000  1.000000   \n",
              "\n",
              "        7         8         9      ...     67490     67491     67492  \\\n",
              "0    0.174195  0.189462  0.162110  ...  0.224704  0.197318  0.138913   \n",
              "1    0.103733  0.150911  0.149698  ...  0.008552  0.756716  0.752803   \n",
              "2    0.980147  0.980362  0.749868  ...  0.947478  0.774726  0.836644   \n",
              "3    0.106019  0.106019  0.113694  ...  0.211287  0.318348  0.331493   \n",
              "4    0.246141  0.227893  0.194989  ...  0.264457  0.202465  0.194044   \n",
              "..        ...       ...       ...  ...       ...       ...       ...   \n",
              "121  0.511448  0.474642  0.414647  ...  0.187970  0.070573  0.083511   \n",
              "122  0.539706  0.408779  0.541766  ...  0.327961  0.547997  0.553535   \n",
              "123  0.301964  0.207846  0.174089  ...  0.170797  0.407024  0.567886   \n",
              "124  0.270173  0.230698  0.270863  ...  0.152773  0.311343  0.311343   \n",
              "125  1.000000  1.000000  1.000000  ...  1.000000  1.000000  1.000000   \n",
              "\n",
              "        67493     67494     67495     67496     67497     67498     67499  \n",
              "0    0.111461  0.190055  0.138656  0.107701  0.180396  0.134622  0.101754  \n",
              "1    0.014710  0.728919  0.718809  0.021388  0.675097  0.656312  0.013387  \n",
              "2    0.941021  0.761761  0.824506  0.923488  0.784133  0.846879  0.942937  \n",
              "3    0.318138  0.265920  0.293626  0.276704  0.363970  0.375376  0.367386  \n",
              "4    0.173787  0.143961  0.145967  0.133343  0.182812  0.190447  0.171150  \n",
              "..        ...       ...       ...       ...       ...       ...       ...  \n",
              "121  0.048696  0.227812  0.231461  0.175383  0.065175  0.065175  0.027635  \n",
              "122  0.311182  0.547216  0.562070  0.275076  0.673287  0.665615  0.441600  \n",
              "123  0.167792  0.393432  0.571711  0.150718  0.392157  0.572549  0.149020  \n",
              "124  0.115264  0.383767  0.383767  0.187688  0.405936  0.405936  0.209857  \n",
              "125  1.000000  1.000000  1.000000  1.000000  1.000000  1.000000  1.000000  \n",
              "\n",
              "[126 rows x 67500 columns]"
            ],
            "text/html": [
              "\n",
              "  <div id=\"df-a94650a4-233c-4e38-ae5d-53c049737a06\">\n",
              "    <div class=\"colab-df-container\">\n",
              "      <div>\n",
              "<style scoped>\n",
              "    .dataframe tbody tr th:only-of-type {\n",
              "        vertical-align: middle;\n",
              "    }\n",
              "\n",
              "    .dataframe tbody tr th {\n",
              "        vertical-align: top;\n",
              "    }\n",
              "\n",
              "    .dataframe thead th {\n",
              "        text-align: right;\n",
              "    }\n",
              "</style>\n",
              "<table border=\"1\" class=\"dataframe\">\n",
              "  <thead>\n",
              "    <tr style=\"text-align: right;\">\n",
              "      <th></th>\n",
              "      <th>0</th>\n",
              "      <th>1</th>\n",
              "      <th>2</th>\n",
              "      <th>3</th>\n",
              "      <th>4</th>\n",
              "      <th>5</th>\n",
              "      <th>6</th>\n",
              "      <th>7</th>\n",
              "      <th>8</th>\n",
              "      <th>9</th>\n",
              "      <th>...</th>\n",
              "      <th>67490</th>\n",
              "      <th>67491</th>\n",
              "      <th>67492</th>\n",
              "      <th>67493</th>\n",
              "      <th>67494</th>\n",
              "      <th>67495</th>\n",
              "      <th>67496</th>\n",
              "      <th>67497</th>\n",
              "      <th>67498</th>\n",
              "      <th>67499</th>\n",
              "    </tr>\n",
              "  </thead>\n",
              "  <tbody>\n",
              "    <tr>\n",
              "      <th>0</th>\n",
              "      <td>0.154919</td>\n",
              "      <td>0.174317</td>\n",
              "      <td>0.159262</td>\n",
              "      <td>0.158661</td>\n",
              "      <td>0.174557</td>\n",
              "      <td>0.174348</td>\n",
              "      <td>0.160470</td>\n",
              "      <td>0.174195</td>\n",
              "      <td>0.189462</td>\n",
              "      <td>0.162110</td>\n",
              "      <td>...</td>\n",
              "      <td>0.224704</td>\n",
              "      <td>0.197318</td>\n",
              "      <td>0.138913</td>\n",
              "      <td>0.111461</td>\n",
              "      <td>0.190055</td>\n",
              "      <td>0.138656</td>\n",
              "      <td>0.107701</td>\n",
              "      <td>0.180396</td>\n",
              "      <td>0.134622</td>\n",
              "      <td>0.101754</td>\n",
              "    </tr>\n",
              "    <tr>\n",
              "      <th>1</th>\n",
              "      <td>0.112229</td>\n",
              "      <td>0.128222</td>\n",
              "      <td>0.163382</td>\n",
              "      <td>0.068747</td>\n",
              "      <td>0.084740</td>\n",
              "      <td>0.125080</td>\n",
              "      <td>0.088116</td>\n",
              "      <td>0.103733</td>\n",
              "      <td>0.150911</td>\n",
              "      <td>0.149698</td>\n",
              "      <td>...</td>\n",
              "      <td>0.008552</td>\n",
              "      <td>0.756716</td>\n",
              "      <td>0.752803</td>\n",
              "      <td>0.014710</td>\n",
              "      <td>0.728919</td>\n",
              "      <td>0.718809</td>\n",
              "      <td>0.021388</td>\n",
              "      <td>0.675097</td>\n",
              "      <td>0.656312</td>\n",
              "      <td>0.013387</td>\n",
              "    </tr>\n",
              "    <tr>\n",
              "      <th>2</th>\n",
              "      <td>0.890555</td>\n",
              "      <td>0.917245</td>\n",
              "      <td>0.909245</td>\n",
              "      <td>0.909860</td>\n",
              "      <td>0.948941</td>\n",
              "      <td>0.944676</td>\n",
              "      <td>0.925683</td>\n",
              "      <td>0.980147</td>\n",
              "      <td>0.980362</td>\n",
              "      <td>0.749868</td>\n",
              "      <td>...</td>\n",
              "      <td>0.947478</td>\n",
              "      <td>0.774726</td>\n",
              "      <td>0.836644</td>\n",
              "      <td>0.941021</td>\n",
              "      <td>0.761761</td>\n",
              "      <td>0.824506</td>\n",
              "      <td>0.923488</td>\n",
              "      <td>0.784133</td>\n",
              "      <td>0.846879</td>\n",
              "      <td>0.942937</td>\n",
              "    </tr>\n",
              "    <tr>\n",
              "      <th>3</th>\n",
              "      <td>0.102460</td>\n",
              "      <td>0.102460</td>\n",
              "      <td>0.102460</td>\n",
              "      <td>0.109354</td>\n",
              "      <td>0.109354</td>\n",
              "      <td>0.109354</td>\n",
              "      <td>0.106019</td>\n",
              "      <td>0.106019</td>\n",
              "      <td>0.106019</td>\n",
              "      <td>0.113694</td>\n",
              "      <td>...</td>\n",
              "      <td>0.211287</td>\n",
              "      <td>0.318348</td>\n",
              "      <td>0.331493</td>\n",
              "      <td>0.318138</td>\n",
              "      <td>0.265920</td>\n",
              "      <td>0.293626</td>\n",
              "      <td>0.276704</td>\n",
              "      <td>0.363970</td>\n",
              "      <td>0.375376</td>\n",
              "      <td>0.367386</td>\n",
              "    </tr>\n",
              "    <tr>\n",
              "      <th>4</th>\n",
              "      <td>0.351719</td>\n",
              "      <td>0.356456</td>\n",
              "      <td>0.346214</td>\n",
              "      <td>0.304857</td>\n",
              "      <td>0.305219</td>\n",
              "      <td>0.292262</td>\n",
              "      <td>0.252144</td>\n",
              "      <td>0.246141</td>\n",
              "      <td>0.227893</td>\n",
              "      <td>0.194989</td>\n",
              "      <td>...</td>\n",
              "      <td>0.264457</td>\n",
              "      <td>0.202465</td>\n",
              "      <td>0.194044</td>\n",
              "      <td>0.173787</td>\n",
              "      <td>0.143961</td>\n",
              "      <td>0.145967</td>\n",
              "      <td>0.133343</td>\n",
              "      <td>0.182812</td>\n",
              "      <td>0.190447</td>\n",
              "      <td>0.171150</td>\n",
              "    </tr>\n",
              "    <tr>\n",
              "      <th>...</th>\n",
              "      <td>...</td>\n",
              "      <td>...</td>\n",
              "      <td>...</td>\n",
              "      <td>...</td>\n",
              "      <td>...</td>\n",
              "      <td>...</td>\n",
              "      <td>...</td>\n",
              "      <td>...</td>\n",
              "      <td>...</td>\n",
              "      <td>...</td>\n",
              "      <td>...</td>\n",
              "      <td>...</td>\n",
              "      <td>...</td>\n",
              "      <td>...</td>\n",
              "      <td>...</td>\n",
              "      <td>...</td>\n",
              "      <td>...</td>\n",
              "      <td>...</td>\n",
              "      <td>...</td>\n",
              "      <td>...</td>\n",
              "      <td>...</td>\n",
              "    </tr>\n",
              "    <tr>\n",
              "      <th>121</th>\n",
              "      <td>0.540430</td>\n",
              "      <td>0.592002</td>\n",
              "      <td>0.587192</td>\n",
              "      <td>0.536907</td>\n",
              "      <td>0.582837</td>\n",
              "      <td>0.564881</td>\n",
              "      <td>0.473051</td>\n",
              "      <td>0.511448</td>\n",
              "      <td>0.474642</td>\n",
              "      <td>0.414647</td>\n",
              "      <td>...</td>\n",
              "      <td>0.187970</td>\n",
              "      <td>0.070573</td>\n",
              "      <td>0.083511</td>\n",
              "      <td>0.048696</td>\n",
              "      <td>0.227812</td>\n",
              "      <td>0.231461</td>\n",
              "      <td>0.175383</td>\n",
              "      <td>0.065175</td>\n",
              "      <td>0.065175</td>\n",
              "      <td>0.027635</td>\n",
              "    </tr>\n",
              "    <tr>\n",
              "      <th>122</th>\n",
              "      <td>0.525404</td>\n",
              "      <td>0.515404</td>\n",
              "      <td>0.385404</td>\n",
              "      <td>0.541982</td>\n",
              "      <td>0.531982</td>\n",
              "      <td>0.401980</td>\n",
              "      <td>0.549706</td>\n",
              "      <td>0.539706</td>\n",
              "      <td>0.408779</td>\n",
              "      <td>0.541766</td>\n",
              "      <td>...</td>\n",
              "      <td>0.327961</td>\n",
              "      <td>0.547997</td>\n",
              "      <td>0.553535</td>\n",
              "      <td>0.311182</td>\n",
              "      <td>0.547216</td>\n",
              "      <td>0.562070</td>\n",
              "      <td>0.275076</td>\n",
              "      <td>0.673287</td>\n",
              "      <td>0.665615</td>\n",
              "      <td>0.441600</td>\n",
              "    </tr>\n",
              "    <tr>\n",
              "      <th>123</th>\n",
              "      <td>0.180388</td>\n",
              "      <td>0.305878</td>\n",
              "      <td>0.211760</td>\n",
              "      <td>0.179468</td>\n",
              "      <td>0.304958</td>\n",
              "      <td>0.210840</td>\n",
              "      <td>0.176474</td>\n",
              "      <td>0.301964</td>\n",
              "      <td>0.207846</td>\n",
              "      <td>0.174089</td>\n",
              "      <td>...</td>\n",
              "      <td>0.170797</td>\n",
              "      <td>0.407024</td>\n",
              "      <td>0.567886</td>\n",
              "      <td>0.167792</td>\n",
              "      <td>0.393432</td>\n",
              "      <td>0.571711</td>\n",
              "      <td>0.150718</td>\n",
              "      <td>0.392157</td>\n",
              "      <td>0.572549</td>\n",
              "      <td>0.149020</td>\n",
              "    </tr>\n",
              "    <tr>\n",
              "      <th>124</th>\n",
              "      <td>0.265494</td>\n",
              "      <td>0.194915</td>\n",
              "      <td>0.165522</td>\n",
              "      <td>0.289091</td>\n",
              "      <td>0.236930</td>\n",
              "      <td>0.201553</td>\n",
              "      <td>0.297122</td>\n",
              "      <td>0.270173</td>\n",
              "      <td>0.230698</td>\n",
              "      <td>0.270863</td>\n",
              "      <td>...</td>\n",
              "      <td>0.152773</td>\n",
              "      <td>0.311343</td>\n",
              "      <td>0.311343</td>\n",
              "      <td>0.115264</td>\n",
              "      <td>0.383767</td>\n",
              "      <td>0.383767</td>\n",
              "      <td>0.187688</td>\n",
              "      <td>0.405936</td>\n",
              "      <td>0.405936</td>\n",
              "      <td>0.209857</td>\n",
              "    </tr>\n",
              "    <tr>\n",
              "      <th>125</th>\n",
              "      <td>1.000000</td>\n",
              "      <td>1.000000</td>\n",
              "      <td>1.000000</td>\n",
              "      <td>1.000000</td>\n",
              "      <td>1.000000</td>\n",
              "      <td>1.000000</td>\n",
              "      <td>1.000000</td>\n",
              "      <td>1.000000</td>\n",
              "      <td>1.000000</td>\n",
              "      <td>1.000000</td>\n",
              "      <td>...</td>\n",
              "      <td>1.000000</td>\n",
              "      <td>1.000000</td>\n",
              "      <td>1.000000</td>\n",
              "      <td>1.000000</td>\n",
              "      <td>1.000000</td>\n",
              "      <td>1.000000</td>\n",
              "      <td>1.000000</td>\n",
              "      <td>1.000000</td>\n",
              "      <td>1.000000</td>\n",
              "      <td>1.000000</td>\n",
              "    </tr>\n",
              "  </tbody>\n",
              "</table>\n",
              "<p>126 rows × 67500 columns</p>\n",
              "</div>\n",
              "      <button class=\"colab-df-convert\" onclick=\"convertToInteractive('df-a94650a4-233c-4e38-ae5d-53c049737a06')\"\n",
              "              title=\"Convert this dataframe to an interactive table.\"\n",
              "              style=\"display:none;\">\n",
              "        \n",
              "  <svg xmlns=\"http://www.w3.org/2000/svg\" height=\"24px\"viewBox=\"0 0 24 24\"\n",
              "       width=\"24px\">\n",
              "    <path d=\"M0 0h24v24H0V0z\" fill=\"none\"/>\n",
              "    <path d=\"M18.56 5.44l.94 2.06.94-2.06 2.06-.94-2.06-.94-.94-2.06-.94 2.06-2.06.94zm-11 1L8.5 8.5l.94-2.06 2.06-.94-2.06-.94L8.5 2.5l-.94 2.06-2.06.94zm10 10l.94 2.06.94-2.06 2.06-.94-2.06-.94-.94-2.06-.94 2.06-2.06.94z\"/><path d=\"M17.41 7.96l-1.37-1.37c-.4-.4-.92-.59-1.43-.59-.52 0-1.04.2-1.43.59L10.3 9.45l-7.72 7.72c-.78.78-.78 2.05 0 2.83L4 21.41c.39.39.9.59 1.41.59.51 0 1.02-.2 1.41-.59l7.78-7.78 2.81-2.81c.8-.78.8-2.07 0-2.86zM5.41 20L4 18.59l7.72-7.72 1.47 1.35L5.41 20z\"/>\n",
              "  </svg>\n",
              "      </button>\n",
              "      \n",
              "  <style>\n",
              "    .colab-df-container {\n",
              "      display:flex;\n",
              "      flex-wrap:wrap;\n",
              "      gap: 12px;\n",
              "    }\n",
              "\n",
              "    .colab-df-convert {\n",
              "      background-color: #E8F0FE;\n",
              "      border: none;\n",
              "      border-radius: 50%;\n",
              "      cursor: pointer;\n",
              "      display: none;\n",
              "      fill: #1967D2;\n",
              "      height: 32px;\n",
              "      padding: 0 0 0 0;\n",
              "      width: 32px;\n",
              "    }\n",
              "\n",
              "    .colab-df-convert:hover {\n",
              "      background-color: #E2EBFA;\n",
              "      box-shadow: 0px 1px 2px rgba(60, 64, 67, 0.3), 0px 1px 3px 1px rgba(60, 64, 67, 0.15);\n",
              "      fill: #174EA6;\n",
              "    }\n",
              "\n",
              "    [theme=dark] .colab-df-convert {\n",
              "      background-color: #3B4455;\n",
              "      fill: #D2E3FC;\n",
              "    }\n",
              "\n",
              "    [theme=dark] .colab-df-convert:hover {\n",
              "      background-color: #434B5C;\n",
              "      box-shadow: 0px 1px 3px 1px rgba(0, 0, 0, 0.15);\n",
              "      filter: drop-shadow(0px 1px 2px rgba(0, 0, 0, 0.3));\n",
              "      fill: #FFFFFF;\n",
              "    }\n",
              "  </style>\n",
              "\n",
              "      <script>\n",
              "        const buttonEl =\n",
              "          document.querySelector('#df-a94650a4-233c-4e38-ae5d-53c049737a06 button.colab-df-convert');\n",
              "        buttonEl.style.display =\n",
              "          google.colab.kernel.accessAllowed ? 'block' : 'none';\n",
              "\n",
              "        async function convertToInteractive(key) {\n",
              "          const element = document.querySelector('#df-a94650a4-233c-4e38-ae5d-53c049737a06');\n",
              "          const dataTable =\n",
              "            await google.colab.kernel.invokeFunction('convertToInteractive',\n",
              "                                                     [key], {});\n",
              "          if (!dataTable) return;\n",
              "\n",
              "          const docLinkHtml = 'Like what you see? Visit the ' +\n",
              "            '<a target=\"_blank\" href=https://colab.research.google.com/notebooks/data_table.ipynb>data table notebook</a>'\n",
              "            + ' to learn more about interactive tables.';\n",
              "          element.innerHTML = '';\n",
              "          dataTable['output_type'] = 'display_data';\n",
              "          await google.colab.output.renderOutput(dataTable, element);\n",
              "          const docLink = document.createElement('div');\n",
              "          docLink.innerHTML = docLinkHtml;\n",
              "          element.appendChild(docLink);\n",
              "        }\n",
              "      </script>\n",
              "    </div>\n",
              "  </div>\n",
              "  "
            ]
          },
          "metadata": {},
          "execution_count": 18
        }
      ],
      "source": [
        "df=pd.DataFrame(data)\n",
        "df"
      ]
    },
    {
      "cell_type": "code",
      "execution_count": 19,
      "metadata": {
        "colab": {
          "base_uri": "https://localhost:8080/",
          "height": 488
        },
        "id": "m1hgrumNFOCR",
        "outputId": "b0cfb401-692e-44b7-a790-f0bb8e3bbeb0"
      },
      "outputs": [
        {
          "output_type": "execute_result",
          "data": {
            "text/plain": [
              "            0         1         2         3         4         5         6  \\\n",
              "0    0.154919  0.174317  0.159262  0.158661  0.174557  0.174348  0.160470   \n",
              "1    0.112229  0.128222  0.163382  0.068747  0.084740  0.125080  0.088116   \n",
              "2    0.890555  0.917245  0.909245  0.909860  0.948941  0.944676  0.925683   \n",
              "3    0.102460  0.102460  0.102460  0.109354  0.109354  0.109354  0.106019   \n",
              "4    0.351719  0.356456  0.346214  0.304857  0.305219  0.292262  0.252144   \n",
              "..        ...       ...       ...       ...       ...       ...       ...   \n",
              "121  0.540430  0.592002  0.587192  0.536907  0.582837  0.564881  0.473051   \n",
              "122  0.525404  0.515404  0.385404  0.541982  0.531982  0.401980  0.549706   \n",
              "123  0.180388  0.305878  0.211760  0.179468  0.304958  0.210840  0.176474   \n",
              "124  0.265494  0.194915  0.165522  0.289091  0.236930  0.201553  0.297122   \n",
              "125  1.000000  1.000000  1.000000  1.000000  1.000000  1.000000  1.000000   \n",
              "\n",
              "            7         8         9  ...     67491     67492     67493  \\\n",
              "0    0.174195  0.189462  0.162110  ...  0.197318  0.138913  0.111461   \n",
              "1    0.103733  0.150911  0.149698  ...  0.756716  0.752803  0.014710   \n",
              "2    0.980147  0.980362  0.749868  ...  0.774726  0.836644  0.941021   \n",
              "3    0.106019  0.106019  0.113694  ...  0.318348  0.331493  0.318138   \n",
              "4    0.246141  0.227893  0.194989  ...  0.202465  0.194044  0.173787   \n",
              "..        ...       ...       ...  ...       ...       ...       ...   \n",
              "121  0.511448  0.474642  0.414647  ...  0.070573  0.083511  0.048696   \n",
              "122  0.539706  0.408779  0.541766  ...  0.547997  0.553535  0.311182   \n",
              "123  0.301964  0.207846  0.174089  ...  0.407024  0.567886  0.167792   \n",
              "124  0.270173  0.230698  0.270863  ...  0.311343  0.311343  0.115264   \n",
              "125  1.000000  1.000000  1.000000  ...  1.000000  1.000000  1.000000   \n",
              "\n",
              "        67494     67495     67496     67497     67498     67499  target  \n",
              "0    0.190055  0.138656  0.107701  0.180396  0.134622  0.101754       0  \n",
              "1    0.728919  0.718809  0.021388  0.675097  0.656312  0.013387       0  \n",
              "2    0.761761  0.824506  0.923488  0.784133  0.846879  0.942937       0  \n",
              "3    0.265920  0.293626  0.276704  0.363970  0.375376  0.367386       0  \n",
              "4    0.143961  0.145967  0.133343  0.182812  0.190447  0.171150       0  \n",
              "..        ...       ...       ...       ...       ...       ...     ...  \n",
              "121  0.227812  0.231461  0.175383  0.065175  0.065175  0.027635       1  \n",
              "122  0.547216  0.562070  0.275076  0.673287  0.665615  0.441600       1  \n",
              "123  0.393432  0.571711  0.150718  0.392157  0.572549  0.149020       1  \n",
              "124  0.383767  0.383767  0.187688  0.405936  0.405936  0.209857       1  \n",
              "125  1.000000  1.000000  1.000000  1.000000  1.000000  1.000000       1  \n",
              "\n",
              "[126 rows x 67501 columns]"
            ],
            "text/html": [
              "\n",
              "  <div id=\"df-9ae29986-9fea-471a-a55d-d8696c77b731\">\n",
              "    <div class=\"colab-df-container\">\n",
              "      <div>\n",
              "<style scoped>\n",
              "    .dataframe tbody tr th:only-of-type {\n",
              "        vertical-align: middle;\n",
              "    }\n",
              "\n",
              "    .dataframe tbody tr th {\n",
              "        vertical-align: top;\n",
              "    }\n",
              "\n",
              "    .dataframe thead th {\n",
              "        text-align: right;\n",
              "    }\n",
              "</style>\n",
              "<table border=\"1\" class=\"dataframe\">\n",
              "  <thead>\n",
              "    <tr style=\"text-align: right;\">\n",
              "      <th></th>\n",
              "      <th>0</th>\n",
              "      <th>1</th>\n",
              "      <th>2</th>\n",
              "      <th>3</th>\n",
              "      <th>4</th>\n",
              "      <th>5</th>\n",
              "      <th>6</th>\n",
              "      <th>7</th>\n",
              "      <th>8</th>\n",
              "      <th>9</th>\n",
              "      <th>...</th>\n",
              "      <th>67491</th>\n",
              "      <th>67492</th>\n",
              "      <th>67493</th>\n",
              "      <th>67494</th>\n",
              "      <th>67495</th>\n",
              "      <th>67496</th>\n",
              "      <th>67497</th>\n",
              "      <th>67498</th>\n",
              "      <th>67499</th>\n",
              "      <th>target</th>\n",
              "    </tr>\n",
              "  </thead>\n",
              "  <tbody>\n",
              "    <tr>\n",
              "      <th>0</th>\n",
              "      <td>0.154919</td>\n",
              "      <td>0.174317</td>\n",
              "      <td>0.159262</td>\n",
              "      <td>0.158661</td>\n",
              "      <td>0.174557</td>\n",
              "      <td>0.174348</td>\n",
              "      <td>0.160470</td>\n",
              "      <td>0.174195</td>\n",
              "      <td>0.189462</td>\n",
              "      <td>0.162110</td>\n",
              "      <td>...</td>\n",
              "      <td>0.197318</td>\n",
              "      <td>0.138913</td>\n",
              "      <td>0.111461</td>\n",
              "      <td>0.190055</td>\n",
              "      <td>0.138656</td>\n",
              "      <td>0.107701</td>\n",
              "      <td>0.180396</td>\n",
              "      <td>0.134622</td>\n",
              "      <td>0.101754</td>\n",
              "      <td>0</td>\n",
              "    </tr>\n",
              "    <tr>\n",
              "      <th>1</th>\n",
              "      <td>0.112229</td>\n",
              "      <td>0.128222</td>\n",
              "      <td>0.163382</td>\n",
              "      <td>0.068747</td>\n",
              "      <td>0.084740</td>\n",
              "      <td>0.125080</td>\n",
              "      <td>0.088116</td>\n",
              "      <td>0.103733</td>\n",
              "      <td>0.150911</td>\n",
              "      <td>0.149698</td>\n",
              "      <td>...</td>\n",
              "      <td>0.756716</td>\n",
              "      <td>0.752803</td>\n",
              "      <td>0.014710</td>\n",
              "      <td>0.728919</td>\n",
              "      <td>0.718809</td>\n",
              "      <td>0.021388</td>\n",
              "      <td>0.675097</td>\n",
              "      <td>0.656312</td>\n",
              "      <td>0.013387</td>\n",
              "      <td>0</td>\n",
              "    </tr>\n",
              "    <tr>\n",
              "      <th>2</th>\n",
              "      <td>0.890555</td>\n",
              "      <td>0.917245</td>\n",
              "      <td>0.909245</td>\n",
              "      <td>0.909860</td>\n",
              "      <td>0.948941</td>\n",
              "      <td>0.944676</td>\n",
              "      <td>0.925683</td>\n",
              "      <td>0.980147</td>\n",
              "      <td>0.980362</td>\n",
              "      <td>0.749868</td>\n",
              "      <td>...</td>\n",
              "      <td>0.774726</td>\n",
              "      <td>0.836644</td>\n",
              "      <td>0.941021</td>\n",
              "      <td>0.761761</td>\n",
              "      <td>0.824506</td>\n",
              "      <td>0.923488</td>\n",
              "      <td>0.784133</td>\n",
              "      <td>0.846879</td>\n",
              "      <td>0.942937</td>\n",
              "      <td>0</td>\n",
              "    </tr>\n",
              "    <tr>\n",
              "      <th>3</th>\n",
              "      <td>0.102460</td>\n",
              "      <td>0.102460</td>\n",
              "      <td>0.102460</td>\n",
              "      <td>0.109354</td>\n",
              "      <td>0.109354</td>\n",
              "      <td>0.109354</td>\n",
              "      <td>0.106019</td>\n",
              "      <td>0.106019</td>\n",
              "      <td>0.106019</td>\n",
              "      <td>0.113694</td>\n",
              "      <td>...</td>\n",
              "      <td>0.318348</td>\n",
              "      <td>0.331493</td>\n",
              "      <td>0.318138</td>\n",
              "      <td>0.265920</td>\n",
              "      <td>0.293626</td>\n",
              "      <td>0.276704</td>\n",
              "      <td>0.363970</td>\n",
              "      <td>0.375376</td>\n",
              "      <td>0.367386</td>\n",
              "      <td>0</td>\n",
              "    </tr>\n",
              "    <tr>\n",
              "      <th>4</th>\n",
              "      <td>0.351719</td>\n",
              "      <td>0.356456</td>\n",
              "      <td>0.346214</td>\n",
              "      <td>0.304857</td>\n",
              "      <td>0.305219</td>\n",
              "      <td>0.292262</td>\n",
              "      <td>0.252144</td>\n",
              "      <td>0.246141</td>\n",
              "      <td>0.227893</td>\n",
              "      <td>0.194989</td>\n",
              "      <td>...</td>\n",
              "      <td>0.202465</td>\n",
              "      <td>0.194044</td>\n",
              "      <td>0.173787</td>\n",
              "      <td>0.143961</td>\n",
              "      <td>0.145967</td>\n",
              "      <td>0.133343</td>\n",
              "      <td>0.182812</td>\n",
              "      <td>0.190447</td>\n",
              "      <td>0.171150</td>\n",
              "      <td>0</td>\n",
              "    </tr>\n",
              "    <tr>\n",
              "      <th>...</th>\n",
              "      <td>...</td>\n",
              "      <td>...</td>\n",
              "      <td>...</td>\n",
              "      <td>...</td>\n",
              "      <td>...</td>\n",
              "      <td>...</td>\n",
              "      <td>...</td>\n",
              "      <td>...</td>\n",
              "      <td>...</td>\n",
              "      <td>...</td>\n",
              "      <td>...</td>\n",
              "      <td>...</td>\n",
              "      <td>...</td>\n",
              "      <td>...</td>\n",
              "      <td>...</td>\n",
              "      <td>...</td>\n",
              "      <td>...</td>\n",
              "      <td>...</td>\n",
              "      <td>...</td>\n",
              "      <td>...</td>\n",
              "      <td>...</td>\n",
              "    </tr>\n",
              "    <tr>\n",
              "      <th>121</th>\n",
              "      <td>0.540430</td>\n",
              "      <td>0.592002</td>\n",
              "      <td>0.587192</td>\n",
              "      <td>0.536907</td>\n",
              "      <td>0.582837</td>\n",
              "      <td>0.564881</td>\n",
              "      <td>0.473051</td>\n",
              "      <td>0.511448</td>\n",
              "      <td>0.474642</td>\n",
              "      <td>0.414647</td>\n",
              "      <td>...</td>\n",
              "      <td>0.070573</td>\n",
              "      <td>0.083511</td>\n",
              "      <td>0.048696</td>\n",
              "      <td>0.227812</td>\n",
              "      <td>0.231461</td>\n",
              "      <td>0.175383</td>\n",
              "      <td>0.065175</td>\n",
              "      <td>0.065175</td>\n",
              "      <td>0.027635</td>\n",
              "      <td>1</td>\n",
              "    </tr>\n",
              "    <tr>\n",
              "      <th>122</th>\n",
              "      <td>0.525404</td>\n",
              "      <td>0.515404</td>\n",
              "      <td>0.385404</td>\n",
              "      <td>0.541982</td>\n",
              "      <td>0.531982</td>\n",
              "      <td>0.401980</td>\n",
              "      <td>0.549706</td>\n",
              "      <td>0.539706</td>\n",
              "      <td>0.408779</td>\n",
              "      <td>0.541766</td>\n",
              "      <td>...</td>\n",
              "      <td>0.547997</td>\n",
              "      <td>0.553535</td>\n",
              "      <td>0.311182</td>\n",
              "      <td>0.547216</td>\n",
              "      <td>0.562070</td>\n",
              "      <td>0.275076</td>\n",
              "      <td>0.673287</td>\n",
              "      <td>0.665615</td>\n",
              "      <td>0.441600</td>\n",
              "      <td>1</td>\n",
              "    </tr>\n",
              "    <tr>\n",
              "      <th>123</th>\n",
              "      <td>0.180388</td>\n",
              "      <td>0.305878</td>\n",
              "      <td>0.211760</td>\n",
              "      <td>0.179468</td>\n",
              "      <td>0.304958</td>\n",
              "      <td>0.210840</td>\n",
              "      <td>0.176474</td>\n",
              "      <td>0.301964</td>\n",
              "      <td>0.207846</td>\n",
              "      <td>0.174089</td>\n",
              "      <td>...</td>\n",
              "      <td>0.407024</td>\n",
              "      <td>0.567886</td>\n",
              "      <td>0.167792</td>\n",
              "      <td>0.393432</td>\n",
              "      <td>0.571711</td>\n",
              "      <td>0.150718</td>\n",
              "      <td>0.392157</td>\n",
              "      <td>0.572549</td>\n",
              "      <td>0.149020</td>\n",
              "      <td>1</td>\n",
              "    </tr>\n",
              "    <tr>\n",
              "      <th>124</th>\n",
              "      <td>0.265494</td>\n",
              "      <td>0.194915</td>\n",
              "      <td>0.165522</td>\n",
              "      <td>0.289091</td>\n",
              "      <td>0.236930</td>\n",
              "      <td>0.201553</td>\n",
              "      <td>0.297122</td>\n",
              "      <td>0.270173</td>\n",
              "      <td>0.230698</td>\n",
              "      <td>0.270863</td>\n",
              "      <td>...</td>\n",
              "      <td>0.311343</td>\n",
              "      <td>0.311343</td>\n",
              "      <td>0.115264</td>\n",
              "      <td>0.383767</td>\n",
              "      <td>0.383767</td>\n",
              "      <td>0.187688</td>\n",
              "      <td>0.405936</td>\n",
              "      <td>0.405936</td>\n",
              "      <td>0.209857</td>\n",
              "      <td>1</td>\n",
              "    </tr>\n",
              "    <tr>\n",
              "      <th>125</th>\n",
              "      <td>1.000000</td>\n",
              "      <td>1.000000</td>\n",
              "      <td>1.000000</td>\n",
              "      <td>1.000000</td>\n",
              "      <td>1.000000</td>\n",
              "      <td>1.000000</td>\n",
              "      <td>1.000000</td>\n",
              "      <td>1.000000</td>\n",
              "      <td>1.000000</td>\n",
              "      <td>1.000000</td>\n",
              "      <td>...</td>\n",
              "      <td>1.000000</td>\n",
              "      <td>1.000000</td>\n",
              "      <td>1.000000</td>\n",
              "      <td>1.000000</td>\n",
              "      <td>1.000000</td>\n",
              "      <td>1.000000</td>\n",
              "      <td>1.000000</td>\n",
              "      <td>1.000000</td>\n",
              "      <td>1.000000</td>\n",
              "      <td>1</td>\n",
              "    </tr>\n",
              "  </tbody>\n",
              "</table>\n",
              "<p>126 rows × 67501 columns</p>\n",
              "</div>\n",
              "      <button class=\"colab-df-convert\" onclick=\"convertToInteractive('df-9ae29986-9fea-471a-a55d-d8696c77b731')\"\n",
              "              title=\"Convert this dataframe to an interactive table.\"\n",
              "              style=\"display:none;\">\n",
              "        \n",
              "  <svg xmlns=\"http://www.w3.org/2000/svg\" height=\"24px\"viewBox=\"0 0 24 24\"\n",
              "       width=\"24px\">\n",
              "    <path d=\"M0 0h24v24H0V0z\" fill=\"none\"/>\n",
              "    <path d=\"M18.56 5.44l.94 2.06.94-2.06 2.06-.94-2.06-.94-.94-2.06-.94 2.06-2.06.94zm-11 1L8.5 8.5l.94-2.06 2.06-.94-2.06-.94L8.5 2.5l-.94 2.06-2.06.94zm10 10l.94 2.06.94-2.06 2.06-.94-2.06-.94-.94-2.06-.94 2.06-2.06.94z\"/><path d=\"M17.41 7.96l-1.37-1.37c-.4-.4-.92-.59-1.43-.59-.52 0-1.04.2-1.43.59L10.3 9.45l-7.72 7.72c-.78.78-.78 2.05 0 2.83L4 21.41c.39.39.9.59 1.41.59.51 0 1.02-.2 1.41-.59l7.78-7.78 2.81-2.81c.8-.78.8-2.07 0-2.86zM5.41 20L4 18.59l7.72-7.72 1.47 1.35L5.41 20z\"/>\n",
              "  </svg>\n",
              "      </button>\n",
              "      \n",
              "  <style>\n",
              "    .colab-df-container {\n",
              "      display:flex;\n",
              "      flex-wrap:wrap;\n",
              "      gap: 12px;\n",
              "    }\n",
              "\n",
              "    .colab-df-convert {\n",
              "      background-color: #E8F0FE;\n",
              "      border: none;\n",
              "      border-radius: 50%;\n",
              "      cursor: pointer;\n",
              "      display: none;\n",
              "      fill: #1967D2;\n",
              "      height: 32px;\n",
              "      padding: 0 0 0 0;\n",
              "      width: 32px;\n",
              "    }\n",
              "\n",
              "    .colab-df-convert:hover {\n",
              "      background-color: #E2EBFA;\n",
              "      box-shadow: 0px 1px 2px rgba(60, 64, 67, 0.3), 0px 1px 3px 1px rgba(60, 64, 67, 0.15);\n",
              "      fill: #174EA6;\n",
              "    }\n",
              "\n",
              "    [theme=dark] .colab-df-convert {\n",
              "      background-color: #3B4455;\n",
              "      fill: #D2E3FC;\n",
              "    }\n",
              "\n",
              "    [theme=dark] .colab-df-convert:hover {\n",
              "      background-color: #434B5C;\n",
              "      box-shadow: 0px 1px 3px 1px rgba(0, 0, 0, 0.15);\n",
              "      filter: drop-shadow(0px 1px 2px rgba(0, 0, 0, 0.3));\n",
              "      fill: #FFFFFF;\n",
              "    }\n",
              "  </style>\n",
              "\n",
              "      <script>\n",
              "        const buttonEl =\n",
              "          document.querySelector('#df-9ae29986-9fea-471a-a55d-d8696c77b731 button.colab-df-convert');\n",
              "        buttonEl.style.display =\n",
              "          google.colab.kernel.accessAllowed ? 'block' : 'none';\n",
              "\n",
              "        async function convertToInteractive(key) {\n",
              "          const element = document.querySelector('#df-9ae29986-9fea-471a-a55d-d8696c77b731');\n",
              "          const dataTable =\n",
              "            await google.colab.kernel.invokeFunction('convertToInteractive',\n",
              "                                                     [key], {});\n",
              "          if (!dataTable) return;\n",
              "\n",
              "          const docLinkHtml = 'Like what you see? Visit the ' +\n",
              "            '<a target=\"_blank\" href=https://colab.research.google.com/notebooks/data_table.ipynb>data table notebook</a>'\n",
              "            + ' to learn more about interactive tables.';\n",
              "          element.innerHTML = '';\n",
              "          dataTable['output_type'] = 'display_data';\n",
              "          await google.colab.output.renderOutput(dataTable, element);\n",
              "          const docLink = document.createElement('div');\n",
              "          docLink.innerHTML = docLinkHtml;\n",
              "          element.appendChild(docLink);\n",
              "        }\n",
              "      </script>\n",
              "    </div>\n",
              "  </div>\n",
              "  "
            ]
          },
          "metadata": {},
          "execution_count": 19
        }
      ],
      "source": [
        "df['target']=target\n",
        "df"
      ]
    },
    {
      "cell_type": "code",
      "execution_count": 20,
      "metadata": {
        "id": "CBHq7hinHGpA"
      },
      "outputs": [],
      "source": [
        "X=data\n",
        "y=target"
      ]
    },
    {
      "cell_type": "code",
      "execution_count": 21,
      "metadata": {
        "id": "U_Vx6RSBHPic"
      },
      "outputs": [],
      "source": [
        "X_train,X_test,y_train,y_test=train_test_split(X,y,test_size=0.3,random_state=1)\n"
      ]
    },
    {
      "cell_type": "code",
      "execution_count": 22,
      "metadata": {
        "colab": {
          "base_uri": "https://localhost:8080/"
        },
        "id": "JCf9kNPgHyer",
        "outputId": "4edac953-71bf-448f-ff42-9605c5b81620"
      },
      "outputs": [
        {
          "output_type": "stream",
          "name": "stdout",
          "text": [
            "              precision    recall  f1-score   support\n",
            "\n",
            "           0       0.46      0.80      0.59        15\n",
            "           1       0.75      0.39      0.51        23\n",
            "\n",
            "    accuracy                           0.55        38\n",
            "   macro avg       0.61      0.60      0.55        38\n",
            "weighted avg       0.64      0.55      0.54        38\n",
            "\n"
          ]
        }
      ],
      "source": [
        "sv=SVC()\n",
        "sv.fit(X_train,y_train)\n",
        "y_pred=sv.predict(X_test)\n",
        "y_pred\n",
        "print(classification_report(y_test,y_pred))"
      ]
    },
    {
      "cell_type": "code",
      "execution_count": 23,
      "metadata": {
        "colab": {
          "base_uri": "https://localhost:8080/",
          "height": 472
        },
        "id": "b1lvPV85KKwa",
        "outputId": "0023998d-4803-4326-e4f0-efe978fa1cec"
      },
      "outputs": [
        {
          "output_type": "stream",
          "name": "stdout",
          "text": [
            "<sklearn.metrics._plot.confusion_matrix.ConfusionMatrixDisplay object at 0x7efbb44b25c0>\n"
          ]
        },
        {
          "output_type": "display_data",
          "data": {
            "text/plain": [
              "<Figure size 640x480 with 2 Axes>"
            ],
            "image/png": "[encoded data removed]"
          },
          "metadata": {}
        }
      ],
      "source": [
        "print(ConfusionMatrixDisplay.from_predictions(y_test,y_pred))"
      ]
    },
    {
      "cell_type": "code",
      "execution_count": 29,
      "metadata": {
        "id": "8bn2DT5UKwNH",
        "colab": {
          "base_uri": "https://localhost:8080/",
          "height": 435
        },
        "outputId": "15be4de8-ebae-4fb1-be04-56154f6ddaa2"
      },
      "outputs": [
        {
          "output_type": "display_data",
          "data": {
            "text/plain": [
              "<Figure size 640x480 with 1 Axes>"
            ],
            "image/png": "[encoded data removed]"
          },
          "metadata": {}
        }
      ],
      "source": [
        "new=imread('/content/pexels-evg-kowalievska-1170986.jpg')\n",
        "plt.imshow(new)\n",
        "plt.show()"
      ]
    },
    {
      "cell_type": "code",
      "execution_count": 30,
      "metadata": {
        "id": "KtWM4MToMBkk",
        "colab": {
          "base_uri": "https://localhost:8080/"
        },
        "outputId": "fd1dbc1a-3d1d-495a-b04f-35eaa8acff38"
      },
      "outputs": [
        {
          "output_type": "execute_result",
          "data": {
            "text/plain": [
              "(1, 67500)"
            ]
          },
          "metadata": {},
          "execution_count": 30
        }
      ],
      "source": [
        "new=resize(new,(150,150,3))\n",
        "newimg=new.flatten()\n",
        "newimg=newimg.reshape(1,-1)\n",
        "newimg.shape"
      ]
    },
    {
      "cell_type": "code",
      "execution_count": 35,
      "metadata": {
        "id": "fv_8UpTWMzzR",
        "colab": {
          "base_uri": "https://localhost:8080/",
          "height": 235
        },
        "outputId": "b64a8eae-258b-47a8-860a-b62863c68117"
      },
      "outputs": [
        {
          "output_type": "error",
          "ename": "ValueError",
          "evalue": "ignored",
          "traceback": [
            "\u001b[0;31m---------------------------------------------------------------------------\u001b[0m",
            "\u001b[0;31mValueError\u001b[0m                                Traceback (most recent call last)",
            "\u001b[0;32m<ipython-input-35-53da51c12918>\u001b[0m in \u001b[0;36m<cell line: 2>\u001b[0;34m()\u001b[0m\n\u001b[1;32m      1\u001b[0m \u001b[0msv\u001b[0m\u001b[0;34m.\u001b[0m\u001b[0mpredict\u001b[0m\u001b[0;34m(\u001b[0m\u001b[0mnewimg\u001b[0m\u001b[0;34m)\u001b[0m\u001b[0;34m\u001b[0m\u001b[0;34m\u001b[0m\u001b[0m\n\u001b[0;32m----> 2\u001b[0;31m \u001b[0;32mif\u001b[0m \u001b[0my\u001b[0m\u001b[0;34m==\u001b[0m\u001b[0;36m0\u001b[0m\u001b[0;34m:\u001b[0m\u001b[0;34m\u001b[0m\u001b[0;34m\u001b[0m\u001b[0m\n\u001b[0m\u001b[1;32m      3\u001b[0m   \u001b[0mprint\u001b[0m\u001b[0;34m(\u001b[0m\u001b[0;34m\"CAT\"\u001b[0m\u001b[0;34m)\u001b[0m\u001b[0;34m\u001b[0m\u001b[0;34m\u001b[0m\u001b[0m\n\u001b[1;32m      4\u001b[0m \u001b[0;32melse\u001b[0m\u001b[0;34m:\u001b[0m\u001b[0;34m\u001b[0m\u001b[0;34m\u001b[0m\u001b[0m\n\u001b[1;32m      5\u001b[0m   \u001b[0mprint\u001b[0m\u001b[0;34m(\u001b[0m\u001b[0;34m\"DOG\"\u001b[0m\u001b[0;34m)\u001b[0m\u001b[0;34m\u001b[0m\u001b[0;34m\u001b[0m\u001b[0m\n",
            "\u001b[0;31mValueError\u001b[0m: The truth value of an array with more than one element is ambiguous. Use a.any() or a.all()"
          ]
        }
      ],
      "source": [
        "sv.predict(newimg)\n",
        "# if y==0:\n",
        "#   print(\"CAT\")\n",
        "# else:\n",
        "#   print(\"DOG\")"
      ]
    },
    {
      "cell_type": "code",
      "execution_count": null,
      "metadata": {
        "id": "vseeUat1M3SX"
      },
      "outputs": [],
      "source": [
        "# new=imread('/content/pexels-just-a-couple-photos-3777622.jpg')\n",
        "# plt.imshow(new)\n",
        "# plt.show()"
      ]
    },
    {
      "cell_type": "code",
      "execution_count": null,
      "metadata": {
        "id": "4CuVlBlyNIiH"
      },
      "outputs": [],
      "source": [
        "# new=resize(new,(150,150,3))\n",
        "# newimg=new.flatten()\n",
        "# newimg=newimg.reshape(1,-1)\n",
        "# newimg.shape"
      ]
    },
    {
      "cell_type": "code",
      "execution_count": null,
      "metadata": {
        "id": "xAmAkXscNMiS"
      },
      "outputs": [],
      "source": [
        "# sv.predict(newimg)\n"
      ]
    }
  ],
  "metadata": {
    "colab": {
      "provenance": [],
      "mount_file_id": "14OpPdNYDBt_HE5mQFINClSVdRrQc0Abp",
      "authorship_tag": "ABX9TyN0NO0tD+y5NR1jGtCMGktg",
      "include_colab_link": true
    },
    "kernelspec": {
      "display_name": "Python 3",
      "name": "python3"
    },
    "language_info": {
      "name": "python"
    }
  },
  "nbformat": 4,
  "nbformat_minor": 0
}